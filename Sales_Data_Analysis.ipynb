{
  "nbformat": 4,
  "nbformat_minor": 0,
  "metadata": {
    "colab": {
      "provenance": [],
      "authorship_tag": "ABX9TyPuuvt1qDnZ6RUXQ0Krgy+N",
      "include_colab_link": true
    },
    "kernelspec": {
      "name": "python3",
      "display_name": "Python 3"
    },
    "language_info": {
      "name": "python"
    }
  },
  "cells": [
    {
      "cell_type": "markdown",
      "metadata": {
        "id": "view-in-github",
        "colab_type": "text"
      },
      "source": [
        "<a href=\"https://colab.research.google.com/github/rohitvmeshram/Data-Craftsperson-Assessment/blob/main/Sales_Data_Analysis.ipynb\" target=\"_parent\"><img src=\"https://colab.research.google.com/assets/colab-badge.svg\" alt=\"Open In Colab\"/></a>"
      ]
    },
    {
      "cell_type": "code",
      "source": [
        "import sqlite3\n",
        "import pandas as pd"
      ],
      "metadata": {
        "id": "iPWlS_S0OEQo"
      },
      "execution_count": 36,
      "outputs": []
    },
    {
      "cell_type": "code",
      "source": [
        "import pandas as pd\n",
        "import sqlite3\n",
        "\n",
        "# Load the Excel file into a pandas DataFrame\n",
        "df = pd.read_excel('/content/assessment_dataset.xlsx', engine='openpyxl')\n",
        "\n",
        "# Check the first few rows of the DataFrame\n",
        "print(df.head())"
      ],
      "metadata": {
        "colab": {
          "base_uri": "https://localhost:8080/"
        },
        "id": "jOcPb7EyNswR",
        "outputId": "4f741e1a-0e77-4a80-9ae0-58b6d588dfce"
      },
      "execution_count": 37,
      "outputs": [
        {
          "output_type": "stream",
          "name": "stdout",
          "text": [
            "   TransactionID  CustomerID     TransactionDate  TransactionAmount  \\\n",
            "0              1     16795.0 2022-01-01 00:00:00            1910.91   \n",
            "1              2      1860.0 2022-01-01 00:01:00           58590.27   \n",
            "2              3     39158.0 2022-01-01 00:02:00             280.21   \n",
            "3              4         NaN                 NaT           86485.63   \n",
            "4              5     12284.0 2022-01-01 00:04:00             385.89   \n",
            "\n",
            "  PaymentMethod  Quantity  DiscountPercent     City StoreType  CustomerAge  \\\n",
            "0          Cash         1            35.00  Kolkata  In-Store         32.0   \n",
            "1          Cash         1             9.51  Lucknow    Online         40.0   \n",
            "2    Debit Card         1            16.55  Lucknow    Online         52.0   \n",
            "3           UPI         1             9.53   Jaipur  In-Store         62.0   \n",
            "4    Debit Card        22             0.98  Kolkata    Online         31.0   \n",
            "\n",
            "  CustomerGender  LoyaltyPoints ProductName Region Returned  FeedbackScore  \\\n",
            "0           Male           2043     T-Shirt  North       No              4   \n",
            "1          Other           8490        Sofa   West       No              2   \n",
            "2          Other           6328    Notebook  North      Yes              2   \n",
            "3          Other           1139      Laptop  North       No              4   \n",
            "4         Female             66       Apple  North       No              1   \n",
            "\n",
            "   ShippingCost  DeliveryTimeDays IsPromotional  \n",
            "0         24.31                 5            No  \n",
            "1       1502.96                 7           Yes  \n",
            "2         22.30                 2           Yes  \n",
            "3        461.38                 7            No  \n",
            "4         14.44                 1           Yes  \n"
          ]
        }
      ]
    },
    {
      "cell_type": "code",
      "execution_count": 38,
      "metadata": {
        "colab": {
          "base_uri": "https://localhost:8080/"
        },
        "id": "aRZSIAvINrFt",
        "outputId": "f9d76402-083d-4238-a8e1-b7a3167469e8"
      },
      "outputs": [
        {
          "output_type": "execute_result",
          "data": {
            "text/plain": [
              "500000"
            ]
          },
          "metadata": {},
          "execution_count": 38
        }
      ],
      "source": [
        "import sqlite3\n",
        "\n",
        "# Create a SQLite database in memory\n",
        "conn = sqlite3.connect(':memory:')\n",
        "\n",
        "# Load the DataFrame into the SQLite database\n",
        "df.to_sql('df', conn, index=False, if_exists='replace')"
      ]
    },
    {
      "cell_type": "code",
      "source": [
        "def run_query(query):\n",
        "    return pd.read_sql_query(query, conn)"
      ],
      "metadata": {
        "id": "8K7dRWo_Tp7l"
      },
      "execution_count": 39,
      "outputs": []
    },
    {
      "cell_type": "markdown",
      "source": [
        "Total Sales and Average Discount per City"
      ],
      "metadata": {
        "id": "GKhSPC_zaNYU"
      }
    },
    {
      "cell_type": "code",
      "source": [
        "query1 = \"\"\"\n",
        "SELECT City,\n",
        "       SUM(TransactionAmount) AS TotalSales,\n",
        "       AVG(DiscountPercent) AS AvgDiscount\n",
        "FROM df\n",
        "GROUP BY City\n",
        "ORDER BY TotalSales DESC;\n",
        "\"\"\"\n",
        "result1 = run_query(query1)\n",
        "print(\"Total Sales and Average Order Value:\")\n",
        "print(result1)"
      ],
      "metadata": {
        "colab": {
          "base_uri": "https://localhost:8080/"
        },
        "id": "j0HIIYlgX-B6",
        "outputId": "6a022f19-05e1-41f6-b4b0-b073481031a3"
      },
      "execution_count": 40,
      "outputs": [
        {
          "output_type": "stream",
          "name": "stdout",
          "text": [
            "Total Sales and Average Order Value:\n",
            "        City    TotalSales  AvgDiscount\n",
            "0    Kolkata  1.027326e+09    25.024795\n",
            "1  Ahmedabad  1.023676e+09    25.055853\n",
            "2  Bangalore  1.022380e+09    24.945146\n",
            "3       Pune  1.022136e+09    24.981377\n",
            "4    Chennai  1.022123e+09    24.897040\n",
            "5      Delhi  1.021353e+09    25.009669\n",
            "6    Lucknow  1.021208e+09    25.053024\n",
            "7     Mumbai  1.018526e+09    25.066050\n",
            "8     Jaipur  1.015044e+09    24.955417\n",
            "9  Hyderabad  1.008892e+09    25.004120\n"
          ]
        }
      ]
    },
    {
      "cell_type": "markdown",
      "source": [
        " Top 5 Most Sold Products by Quantity"
      ],
      "metadata": {
        "id": "lYjY69BuaQ7r"
      }
    },
    {
      "cell_type": "code",
      "source": [
        "query2 = \"\"\"\n",
        "SELECT ProductName,\n",
        "       SUM(Quantity) AS TotalQuantity\n",
        "FROM df\n",
        "GROUP BY ProductName\n",
        "ORDER BY TotalQuantity DESC\n",
        "LIMIT 5;\n",
        "\n",
        "\"\"\"\n",
        "result2 = run_query(query2)\n",
        "print(\"Top 5 Most Sold Products by Quantity\")\n",
        "print(result2)"
      ],
      "metadata": {
        "colab": {
          "base_uri": "https://localhost:8080/"
        },
        "id": "id4dcrsiTvOT",
        "outputId": "6abfbecd-cba2-4853-c409-ba707c54df92"
      },
      "execution_count": 72,
      "outputs": [
        {
          "output_type": "stream",
          "name": "stdout",
          "text": [
            "Top 5 Most Sold Products by Quantity\n",
            "  ProductName  TotalQuantity\n",
            "0       Apple        2296713\n",
            "1        None         502299\n",
            "2    Notebook         498649\n",
            "3     T-Shirt         270545\n",
            "4      Laptop          89809\n"
          ]
        }
      ]
    },
    {
      "cell_type": "markdown",
      "source": [
        "Monthly Sales Trend Analysis"
      ],
      "metadata": {
        "id": "jrWAX2k_bChN"
      }
    },
    {
      "cell_type": "code",
      "source": [
        "query3 = \"\"\"\n",
        "SELECT strftime('%Y-%m', TransactionDate) AS Month,\n",
        "       SUM(TransactionAmount) AS TotalSales\n",
        "FROM df\n",
        "GROUP BY Month\n",
        "ORDER BY Month;\n",
        "\n",
        "\"\"\"\n",
        "result3 = run_query(query3)\n",
        "print(\"Monthly Sales Trend Analysis\")\n",
        "print(result3)"
      ],
      "metadata": {
        "colab": {
          "base_uri": "https://localhost:8080/"
        },
        "id": "lk1AfRHSarE7",
        "outputId": "f66aaaf9-c743-44e7-d13d-78776f7dd35d"
      },
      "execution_count": 73,
      "outputs": [
        {
          "output_type": "stream",
          "name": "stdout",
          "text": [
            "Monthly Sales Trend Analysis\n",
            "      Month    TotalSales\n",
            "0      None  1.024919e+09\n",
            "1   2022-01  8.145187e+08\n",
            "2   2022-02  7.441818e+08\n",
            "3   2022-03  8.188742e+08\n",
            "4   2022-04  8.018721e+08\n",
            "5   2022-05  8.195627e+08\n",
            "6   2022-06  7.904689e+08\n",
            "7   2022-07  8.170296e+08\n",
            "8   2022-08  8.221571e+08\n",
            "9   2022-09  7.913500e+08\n",
            "10  2022-10  8.154026e+08\n",
            "11  2022-11  7.999454e+08\n",
            "12  2022-12  3.423810e+08\n"
          ]
        }
      ]
    },
    {
      "cell_type": "markdown",
      "source": [
        "Customer Segmentation by Age Groups"
      ],
      "metadata": {
        "id": "tMf4xCEubM-8"
      }
    },
    {
      "cell_type": "code",
      "source": [
        "query4 = \"\"\"\n",
        "SELECT\n",
        "    CASE\n",
        "        WHEN CustomerAge BETWEEN 18 AND 25 THEN '18-25'\n",
        "        WHEN CustomerAge BETWEEN 26 AND 35 THEN '26-35'\n",
        "        WHEN CustomerAge BETWEEN 36 AND 45 THEN '36-45'\n",
        "        WHEN CustomerAge BETWEEN 46 AND 60 THEN '46-60'\n",
        "        ELSE '60+'\n",
        "    END AS AgeGroup,\n",
        "    COUNT(DISTINCT CustomerID) AS TotalCustomers\n",
        "FROM df\n",
        "GROUP BY AgeGroup\n",
        "ORDER BY AgeGroup;\n",
        "\n",
        "\"\"\"\n",
        "result4 = run_query(query4)\n",
        "print(\"Customer Segmentation by Age Groups:\")\n",
        "print(result4)"
      ],
      "metadata": {
        "colab": {
          "base_uri": "https://localhost:8080/"
        },
        "id": "3bS9KxjoYttj",
        "outputId": "4aa62a36-d9c7-4eca-93ad-4eb0625d0210"
      },
      "execution_count": 74,
      "outputs": [
        {
          "output_type": "stream",
          "name": "stdout",
          "text": [
            "Customer Segmentation by Age Groups:\n",
            "  AgeGroup  TotalCustomers\n",
            "0    18-25           33619\n",
            "1    26-35           37463\n",
            "2    36-45           37490\n",
            "3    46-60           43437\n",
            "4      60+           46437\n"
          ]
        }
      ]
    },
    {
      "cell_type": "markdown",
      "source": [
        "Average Transaction Amount by Payment Method"
      ],
      "metadata": {
        "id": "-UFrv-5UbdB9"
      }
    },
    {
      "cell_type": "code",
      "source": [
        "query5 = \"\"\"\n",
        "SELECT PaymentMethod,\n",
        "       AVG(TransactionAmount) AS AvgTransactionAmount\n",
        "FROM df\n",
        "GROUP BY PaymentMethod\n",
        "ORDER BY AvgTransactionAmount DESC;\n",
        "\n",
        "\n",
        "\n",
        "\"\"\"\n",
        "result5 = run_query(query5)\n",
        "print(\"Average Transaction Amount by Payment Method\")\n",
        "print(result5)"
      ],
      "metadata": {
        "colab": {
          "base_uri": "https://localhost:8080/"
        },
        "id": "_ZYKj_uNbP33",
        "outputId": "42c63d66-b56a-421f-8a84-de8fc808e4c7"
      },
      "execution_count": 75,
      "outputs": [
        {
          "output_type": "stream",
          "name": "stdout",
          "text": [
            "Average Transaction Amount by Payment Method\n",
            "  PaymentMethod  AvgTransactionAmount\n",
            "0          Cash          22700.814183\n",
            "1    Debit Card          22584.313091\n",
            "2   Credit Card          22511.081923\n",
            "3           UPI          22487.068090\n",
            "4          None            914.664859\n"
          ]
        }
      ]
    },
    {
      "cell_type": "markdown",
      "source": [
        "Top 3 Cities with Highest Product Returns"
      ],
      "metadata": {
        "id": "CtDi1n1QcPfW"
      }
    },
    {
      "cell_type": "code",
      "source": [
        "query6 = \"\"\"SELECT City,\n",
        "       COUNT(*) AS ReturnCount\n",
        "FROM df\n",
        "WHERE Returned = 'Yes'\n",
        "GROUP BY City\n",
        "ORDER BY ReturnCount DESC\n",
        "LIMIT 3;\n",
        "\n",
        "\n",
        "\"\"\"\n",
        "result6 = run_query(query6)\n",
        "print(\"Top 3 Cities with Highest Product Returns\")\n",
        "print(result6)"
      ],
      "metadata": {
        "colab": {
          "base_uri": "https://localhost:8080/"
        },
        "id": "ZCvnC2EFbPxO",
        "outputId": "da64339e-75b5-4072-f730-658d77402e6a"
      },
      "execution_count": 76,
      "outputs": [
        {
          "output_type": "stream",
          "name": "stdout",
          "text": [
            "Top 3 Cities with Highest Product Returns\n",
            "        City  ReturnCount\n",
            "0      Delhi        25155\n",
            "1  Bangalore        25126\n",
            "2  Ahmedabad        25081\n"
          ]
        }
      ]
    },
    {
      "cell_type": "markdown",
      "source": [
        " Most Profitable Product (Based on Sales Revenue)"
      ],
      "metadata": {
        "id": "Q6nL4whkcfHx"
      }
    },
    {
      "cell_type": "code",
      "source": [
        "query7 = \"\"\"\n",
        "SELECT ProductName,\n",
        "       SUM(TransactionAmount) AS TotalRevenue\n",
        "FROM df\n",
        "GROUP BY ProductName\n",
        "ORDER BY TotalRevenue DESC\n",
        "LIMIT 1;\n",
        "\n",
        "\n",
        "\"\"\"\n",
        "result7 = run_query(query7)\n",
        "print(\"Most Profitable Product (Based on Sales Revenue)\")\n",
        "print(result7)"
      ],
      "metadata": {
        "colab": {
          "base_uri": "https://localhost:8080/"
        },
        "id": "8zqaSik6bPtm",
        "outputId": "7d241f84-5426-420e-925b-e26ed2c8da1a"
      },
      "execution_count": 77,
      "outputs": [
        {
          "output_type": "stream",
          "name": "stdout",
          "text": [
            "Most Profitable Product (Based on Sales Revenue)\n",
            "  ProductName  TotalRevenue\n",
            "0      Laptop  6.231220e+09\n"
          ]
        }
      ]
    },
    {
      "cell_type": "markdown",
      "source": [
        "Percentage of Online vs In-Store Transactions"
      ],
      "metadata": {
        "id": "iAo_U0rOcqvX"
      }
    },
    {
      "cell_type": "code",
      "source": [
        "query8 = \"\"\"\n",
        "SELECT StoreType,\n",
        "       COUNT(*) AS TotalTransactions,\n",
        "       ROUND((COUNT(*) * 100.0 / (SELECT COUNT(*) FROM df)), 2) AS Percentage\n",
        "FROM df\n",
        "GROUP BY StoreType;\n",
        "\n",
        "\"\"\"\n",
        "result8 = run_query(query8)\n",
        "print(\"Percentage of Online vs In-Store Transactions\")\n",
        "print(result8)"
      ],
      "metadata": {
        "colab": {
          "base_uri": "https://localhost:8080/"
        },
        "id": "KeOOraGDbPqb",
        "outputId": "6ffc9fc3-db9d-4f4c-ff8a-8bec1d304b15"
      },
      "execution_count": 78,
      "outputs": [
        {
          "output_type": "stream",
          "name": "stdout",
          "text": [
            "Percentage of Online vs In-Store Transactions\n",
            "  StoreType  TotalTransactions  Percentage\n",
            "0      None              50000       10.00\n",
            "1  In-Store             224782       44.96\n",
            "2    Online             225218       45.04\n"
          ]
        }
      ]
    },
    {
      "cell_type": "markdown",
      "source": [
        "Delivery Time Analysis (Average by Region)"
      ],
      "metadata": {
        "id": "WiZiuHBOdCY2"
      }
    },
    {
      "cell_type": "code",
      "source": [
        "query9 = \"\"\"\n",
        "SELECT Region,\n",
        "       AVG(DeliveryTimeDays) AS AvgDeliveryTime\n",
        "FROM df\n",
        "GROUP BY Region\n",
        "ORDER BY AvgDeliveryTime;\n",
        "\n",
        "\n",
        "\"\"\"\n",
        "result9 = run_query(query9)\n",
        "print(\"Delivery Time Analysis (Average by Region)\")\n",
        "print(result9)"
      ],
      "metadata": {
        "colab": {
          "base_uri": "https://localhost:8080/"
        },
        "id": "fzmOW4aAbPnU",
        "outputId": "7d5cc652-cf58-400f-e2a1-a8eb4491f3f1"
      },
      "execution_count": 79,
      "outputs": [
        {
          "output_type": "stream",
          "name": "stdout",
          "text": [
            "Delivery Time Analysis (Average by Region)\n",
            "  Region  AvgDeliveryTime\n",
            "0  North         4.981594\n",
            "1   West         4.989695\n",
            "2   East         5.051442\n",
            "3  South         5.071966\n",
            "4   None         7.484507\n"
          ]
        }
      ]
    },
    {
      "cell_type": "markdown",
      "source": [
        "Find the total revenue (TransactionAmount) for each ProductName, but only for transactions where Returned is 'No' and FeedbackScore is greater than 3:\n",
        "sql\n"
      ],
      "metadata": {
        "id": "0mvldCu7dT_A"
      }
    },
    {
      "cell_type": "code",
      "source": [
        "query10 = \"\"\"\n",
        "SELECT\n",
        "    ProductName,\n",
        "    SUM(TransactionAmount) AS TotalRevenue\n",
        "FROM df\n",
        "WHERE Returned = 'No' AND FeedbackScore > 3\n",
        "GROUP BY ProductName;\n",
        "\n",
        "\n",
        "\"\"\"\n",
        "result10 = run_query(query10)\n",
        "\n",
        "print(result10)"
      ],
      "metadata": {
        "colab": {
          "base_uri": "https://localhost:8080/"
        },
        "id": "Tq3zau8IbPkc",
        "outputId": "370b1301-2ec0-41f2-ddf3-bd9e8da2478e"
      },
      "execution_count": 80,
      "outputs": [
        {
          "output_type": "stream",
          "name": "stdout",
          "text": [
            "  ProductName  TotalRevenue\n",
            "0        None  9.097045e+06\n",
            "1       Apple  4.477138e+06\n",
            "2      Laptop  1.244789e+09\n",
            "3    Notebook  4.815285e+06\n",
            "4        Sofa  7.612135e+08\n",
            "5     T-Shirt  2.061561e+07\n"
          ]
        }
      ]
    },
    {
      "cell_type": "markdown",
      "source": [
        " Find the top 3 customers (CustomerID) with the highest total spending (TransactionAmount) in each Region"
      ],
      "metadata": {
        "id": "kLahmPuaea_O"
      }
    },
    {
      "cell_type": "code",
      "source": [
        "query11 = \"\"\"\n",
        "WITH CustomerSpending AS (\n",
        "    SELECT\n",
        "        CustomerID,\n",
        "        Region,\n",
        "        SUM(TransactionAmount) AS TotalSpending,\n",
        "        RANK() OVER (PARTITION BY Region ORDER BY SUM(TransactionAmount) DESC) AS Rank\n",
        "    FROM df\n",
        "    GROUP BY CustomerID, Region\n",
        ")\n",
        "SELECT\n",
        "    CustomerID,\n",
        "    Region,\n",
        "    TotalSpending\n",
        "FROM CustomerSpending\n",
        "WHERE Rank <= 3;\n",
        "\n",
        "\"\"\"\n",
        "result11 = run_query(query11)\n",
        "\n",
        "print(result11)"
      ],
      "metadata": {
        "colab": {
          "base_uri": "https://localhost:8080/"
        },
        "id": "2eSIP6ZTbPh0",
        "outputId": "034f8a7c-62a9-4064-a464-bcae6dd44878"
      },
      "execution_count": 81,
      "outputs": [
        {
          "output_type": "stream",
          "name": "stdout",
          "text": [
            "    CustomerID Region  TotalSpending\n",
            "0          NaN   None   1.075674e+06\n",
            "1      15328.0   None   8.469200e+03\n",
            "2      31111.0   None   7.754860e+03\n",
            "3          NaN   East   2.660439e+08\n",
            "4      17142.0   East   4.185503e+05\n",
            "5      26752.0   East   4.078095e+05\n",
            "6          NaN  North   2.239016e+08\n",
            "7      27065.0  North   4.159640e+05\n",
            "8      28871.0  North   3.757432e+05\n",
            "9          NaN  South   3.160311e+08\n",
            "10     49018.0  South   5.053060e+05\n",
            "11     21856.0  South   4.371897e+05\n",
            "12         NaN   West   2.178666e+08\n",
            "13     34314.0   West   4.109361e+05\n",
            "14     10494.0   West   3.977506e+05\n"
          ]
        }
      ]
    },
    {
      "cell_type": "markdown",
      "source": [
        "Calculate the percentage of returned transactions (Returned = 'Yes') for each ProductName:"
      ],
      "metadata": {
        "id": "ooTz7LeefndU"
      }
    },
    {
      "cell_type": "code",
      "source": [
        "query12 = \"\"\"\n",
        "SELECT\n",
        "    ProductName,\n",
        "    COUNT(*) AS TotalTransactions,\n",
        "    SUM(CASE WHEN Returned = 'Yes' THEN 1 ELSE 0 END) AS ReturnedTransactions,\n",
        "    (SUM(CASE WHEN Returned = 'Yes' THEN 1 ELSE 0 END) * 100.0 / COUNT(*)) AS ReturnPercentage\n",
        "FROM df\n",
        "GROUP BY ProductName;\n",
        "\n",
        "\"\"\"\n",
        "result12 = run_query(query12)\n",
        "\n",
        "print(result12)"
      ],
      "metadata": {
        "colab": {
          "base_uri": "https://localhost:8080/"
        },
        "id": "UVy8OeNcbPdO",
        "outputId": "f9375dde-84ef-4c91-859b-74035d43efd6"
      },
      "execution_count": 82,
      "outputs": [
        {
          "output_type": "stream",
          "name": "stdout",
          "text": [
            "  ProductName  TotalTransactions  ReturnedTransactions  ReturnPercentage\n",
            "0        None              50000                 24990         49.980000\n",
            "1       Apple              89970                 45033         50.053351\n",
            "2      Laptop              89809                 44904         49.999443\n",
            "3    Notebook              90294                 45061         49.904756\n",
            "4        Sofa              89740                 44696         49.806107\n",
            "5     T-Shirt              90187                 44783         49.655715\n"
          ]
        }
      ]
    },
    {
      "cell_type": "markdown",
      "source": [
        ". Calculate the cumulative sum of TransactionAmount for each CustomerID ordered by TransactionDate:"
      ],
      "metadata": {
        "id": "YgohL7Ryf5xm"
      }
    },
    {
      "cell_type": "code",
      "source": [
        "query13 = \"\"\"\n",
        "SELECT\n",
        "    CustomerID,\n",
        "    TransactionDate,\n",
        "    TransactionAmount,\n",
        "    SUM(TransactionAmount) OVER (PARTITION BY CustomerID ORDER BY TransactionDate) AS CumulativeSum\n",
        "FROM df;\n",
        "\n",
        "\"\"\"\n",
        "result13 = run_query(query13)\n",
        "\n",
        "print(result13)"
      ],
      "metadata": {
        "colab": {
          "base_uri": "https://localhost:8080/"
        },
        "id": "tyWeenwVfI4U",
        "outputId": "20b3d04e-d7db-4c07-b4d9-a040c3a8dcc0"
      },
      "execution_count": 83,
      "outputs": [
        {
          "output_type": "stream",
          "name": "stdout",
          "text": [
            "        CustomerID      TransactionDate  TransactionAmount  CumulativeSum\n",
            "0              NaN                 None           86485.63   1.024919e+09\n",
            "1              NaN                 None            1879.62   1.024919e+09\n",
            "2              NaN                 None             384.35   1.024919e+09\n",
            "3              NaN                 None             265.14   1.024919e+09\n",
            "4              NaN                 None            1484.95   1.024919e+09\n",
            "...            ...                  ...                ...            ...\n",
            "499995     49999.0  2022-05-08 16:20:00           79335.10   7.956161e+04\n",
            "499996     49999.0  2022-06-21 14:13:00           50987.95   1.305496e+05\n",
            "499997     49999.0  2022-06-23 05:37:00             951.30   1.315009e+05\n",
            "499998     49999.0  2022-08-19 15:18:00           75485.66   2.069865e+05\n",
            "499999     49999.0  2022-09-17 07:03:00             436.74   2.074233e+05\n",
            "\n",
            "[500000 rows x 4 columns]\n"
          ]
        }
      ]
    },
    {
      "cell_type": "markdown",
      "source": [
        "Calculate the total revenue (TransactionAmount) for each CustomerGender, but only for transactions where CustomerAge is between 30 and 50:"
      ],
      "metadata": {
        "id": "R5VP9q40glhD"
      }
    },
    {
      "cell_type": "code",
      "source": [
        "query14 = \"\"\"\n",
        "SELECT\n",
        "    CustomerGender,\n",
        "    SUM(TransactionAmount) AS TotalRevenue\n",
        "FROM df\n",
        "WHERE CustomerAge BETWEEN 30 AND 50\n",
        "GROUP BY CustomerGender;\n",
        "\n",
        "\"\"\"\n",
        "result14 = run_query(query14)\n",
        "\n",
        "print(result14)"
      ],
      "metadata": {
        "colab": {
          "base_uri": "https://localhost:8080/"
        },
        "id": "f7gmq9yAfJ4u",
        "outputId": "6ed41018-98ae-4c34-eba0-2b9e16c79dd8"
      },
      "execution_count": 84,
      "outputs": [
        {
          "output_type": "stream",
          "name": "stdout",
          "text": [
            "  CustomerGender  TotalRevenue\n",
            "0         Female  1.252340e+09\n",
            "1           Male  1.262418e+09\n",
            "2          Other  1.241363e+09\n"
          ]
        }
      ]
    },
    {
      "cell_type": "markdown",
      "source": [
        " Identifying High-Value Customers (Customers with Highest Spending)"
      ],
      "metadata": {
        "id": "igCS4ZVkhVcl"
      }
    },
    {
      "cell_type": "code",
      "source": [
        "query15 = \"\"\"\n",
        "SELECT Region, SUM(ShippingCost) AS TotalShippingCost\n",
        "FROM df\n",
        "GROUP BY Region;\n",
        "\n",
        "\n",
        "\"\"\"\n",
        "result15 = run_query(query15)\n",
        "\n",
        "print(result15)"
      ],
      "metadata": {
        "colab": {
          "base_uri": "https://localhost:8080/"
        },
        "id": "l_Sj5M3JfKez",
        "outputId": "f45629a2-f30d-4bff-c66f-1d7857e9b24f"
      },
      "execution_count": 85,
      "outputs": [
        {
          "output_type": "stream",
          "name": "stdout",
          "text": [
            "  Region  TotalShippingCost\n",
            "0   None       2.131938e+06\n",
            "1   East       5.114604e+07\n",
            "2  North       4.190867e+07\n",
            "3  South       6.168813e+07\n",
            "4   West       4.177538e+07\n"
          ]
        }
      ]
    },
    {
      "cell_type": "markdown",
      "source": [
        "1. Total Sales and Average Discount per City\n",
        "Insight: Identifies cities with the highest total sales and average discount percentages.\n",
        "\n",
        "Usefulness: Helps businesses focus on high-performing cities and understand discount strategies in different regions.\n",
        "\n",
        "2. Top 5 Most Sold Products by Quantity\n",
        "Insight: Lists the top 5 products with the highest quantity sold.\n",
        "\n",
        "Usefulness: Helps in inventory management and identifying popular products for marketing campaigns.\n",
        "\n",
        "3. Monthly Sales Trend Analysis\n",
        "Insight: Shows sales trends over time (monthly).\n",
        "\n",
        "Usefulness: Helps in identifying seasonal trends, planning promotions, and forecasting future sales.\n",
        "\n",
        "4. Customer Segmentation by Age Groups\n",
        "Insight: Segments customers into age groups (e.g., 18-25, 26-35, etc.) and counts the number of customers in each group.\n",
        "\n",
        "Usefulness: Helps in targeted marketing and understanding the demographics of the customer base.\n",
        "\n",
        "5. Average Transaction Amount by Payment Method\n",
        "Insight: Calculates the average transaction amount for each payment method (e.g., Cash, Debit Card, Credit Card, UPI).\n",
        "\n",
        "Usefulness: Helps in understanding customer payment preferences and optimizing payment processing strategies.\n",
        "\n",
        "6. Top 3 Cities with Highest Product Returns\n",
        "Insight: Identifies cities with the highest number of returned products.\n",
        "\n",
        "Usefulness: Helps in addressing return-related issues and improving customer satisfaction in those regions.\n",
        "\n",
        "7. Most Profitable Product (Based on Sales Revenue)\n",
        "Insight: Identifies the product generating the highest revenue.\n",
        "\n",
        "Usefulness: Helps in focusing on high-revenue products and optimizing product offerings.\n",
        "\n",
        "8. Percentage of Online vs In-Store Transactions\n",
        "Insight: Shows the percentage of transactions conducted online versus in-store.\n",
        "\n",
        "Usefulness: Helps in understanding customer preferences for online vs in-store shopping and optimizing sales channels.\n",
        "\n",
        "9. Delivery Time Analysis (Average by Region)\n",
        "Insight: Calculates the average delivery time for each region.\n",
        "\n",
        "Usefulness: Helps in identifying regions with slower delivery times and improving logistics efficiency.\n",
        "\n",
        "10. Total Revenue for Non-Returned Transactions with High Feedback\n",
        "Insight: Calculates total revenue for products that were not returned and had a feedback score greater than 3.\n",
        "\n",
        "Usefulness: Helps in identifying high-quality products that contribute positively to revenue and customer satisfaction.\n",
        "\n",
        "11. Top 3 Customers with Highest Spending in Each Region\n",
        "Insight: Identifies the top 3 customers with the highest spending in each region.\n",
        "\n",
        "Usefulness: Helps in recognizing high-value customers for loyalty programs and personalized marketing.\n",
        "\n",
        "12. Percentage of Returned Transactions by Product\n",
        "Insight: Calculates the percentage of returned transactions for each product.\n",
        "\n",
        "Usefulness: Helps in identifying products with high return rates and addressing potential quality or customer satisfaction issues.\n",
        "\n",
        "13. Cumulative Sum of Transaction Amount by Customer\n",
        "Insight: Shows the cumulative spending of each customer over time.\n",
        "\n",
        "Usefulness: Helps in understanding customer lifetime value and identifying loyal customers.\n",
        "\n",
        "14. Total Revenue by Customer Gender for Specific Age Group\n",
        "Insight: Calculates total revenue for transactions where the customer's age is between 30 and 50, segmented by gender.\n",
        "\n",
        "Usefulness: Helps in understanding the spending patterns of a specific demographic group for targeted marketing.\n",
        "\n",
        "15. Total Shipping Cost by Region\n",
        "Insight: Calculates the total shipping cost for each region.\n",
        "\n",
        "Usefulness: Helps in identifying regions with high shipping costs and optimizing logistics strategies.\n",
        "\n",
        "Overall Usefulness of the Analysis\n",
        "Data-Driven Decision Making: The analysis provides actionable insights that can guide business decisions, such as optimizing marketing strategies, improving customer satisfaction, and enhancing operational efficiency.\n",
        "\n",
        "Customer Insights: By segmenting customers based on age, gender, and spending behavior, businesses can tailor their offerings to meet the needs of different customer groups.\n",
        "\n",
        "Product Performance: Identifying top-selling and high-return products helps in inventory management and product quality improvement.\n",
        "\n",
        "Regional Analysis: Understanding sales, returns, and delivery times by region allows businesses to address region-specific challenges and opportunities.\n",
        "\n",
        "Trend Identification: Monthly sales trends and cumulative spending patterns help in forecasting and strategic planning."
      ],
      "metadata": {
        "id": "-lv426wtmXGi"
      }
    }
  ]
}